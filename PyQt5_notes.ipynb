{
 "cells": [
  {
   "cell_type": "code",
   "execution_count": null,
   "metadata": {
    "collapsed": true
   },
   "outputs": [],
   "source": [
    "\"\"\"\n",
    "example how to write scrape simple JS web\n",
    "\"\"\"\n",
    "import bs4 as bs\n",
    "import sys\n",
    "import urllib.request\n",
    "from PyQt5.QtWebEngineWidgets import QWebEnginePage\n",
    "from PyQt5.QtWidgets import QApplication\n",
    "from PyQt5.QtCore import QUrl\n",
    "\n",
    "class Page(QWebEnginePage):\n",
    "    def __init__(self, url):\n",
    "        self.app = QApplication(sys.argv)\n",
    "        QWebEnginePage.__init__(self)\n",
    "        self.html = ''\n",
    "        self.loadFinished.connect(self._on_load_finished)\n",
    "        self.load(QUrl(url))\n",
    "        self.app.exec_()\n",
    "\n",
    "    def _on_load_finished(self):\n",
    "        self.html = self.toHtml(self.Callable)\n",
    "        print('Load finished')\n",
    "\n",
    "    def Callable(self, html_str):\n",
    "        self.html = html_str\n",
    "        self.app.quit()\n",
    "\n",
    "\n",
    "def main():\n",
    "    page = Page('https://pythonprogramming.net/parsememcparseface/')\n",
    "    soup = bs.BeautifulSoup(page.html, 'html.parser')\n",
    "    js_test = soup.find('p', class_='jstest')\n",
    "    print (js_test.text)\n",
    "\n",
    "if __name__ == '__main__': main()\n",
    "\n",
    "\n",
    "\n",
    "brew cask install chromedriver\n",
    "\n",
    "\n",
    "\n"
   ]
  }
 ],
 "metadata": {
  "kernelspec": {
   "display_name": "Python 2",
   "language": "python",
   "name": "python2"
  },
  "language_info": {
   "codemirror_mode": {
    "name": "ipython",
    "version": 2
   },
   "file_extension": ".py",
   "mimetype": "text/x-python",
   "name": "python",
   "nbconvert_exporter": "python",
   "pygments_lexer": "ipython2",
   "version": "2.7.6"
  }
 },
 "nbformat": 4,
 "nbformat_minor": 0
}
